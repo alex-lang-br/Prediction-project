{
 "cells": [
  {
   "cell_type": "code",
   "execution_count": 52,
   "id": "3dc9843a-05c8-4b3f-82de-85ecd973d870",
   "metadata": {},
   "outputs": [],
   "source": [
    "import pandas as pd\n",
    "import numpy as np\n",
    "from matplotlib import pyplot as plt\n",
    "import seaborn as sns\n",
    "from mpl_toolkits.mplot3d import Axes3D\n"
   ]
  },
  {
   "cell_type": "code",
   "execution_count": 2,
   "id": "8acbcf20-1aea-4d4f-9c86-23c47f4726f6",
   "metadata": {},
   "outputs": [
    {
     "data": {
      "text/html": [
       "<div>\n",
       "<style scoped>\n",
       "    .dataframe tbody tr th:only-of-type {\n",
       "        vertical-align: middle;\n",
       "    }\n",
       "\n",
       "    .dataframe tbody tr th {\n",
       "        vertical-align: top;\n",
       "    }\n",
       "\n",
       "    .dataframe thead th {\n",
       "        text-align: right;\n",
       "    }\n",
       "</style>\n",
       "<table border=\"1\" class=\"dataframe\">\n",
       "  <thead>\n",
       "    <tr style=\"text-align: right;\">\n",
       "      <th></th>\n",
       "      <th>Date</th>\n",
       "      <th>Id</th>\n",
       "      <th>suburb</th>\n",
       "      <th>postalCode</th>\n",
       "      <th>sellPrice</th>\n",
       "      <th>bed</th>\n",
       "      <th>bath</th>\n",
       "      <th>car</th>\n",
       "      <th>propType</th>\n",
       "    </tr>\n",
       "  </thead>\n",
       "  <tbody>\n",
       "    <tr>\n",
       "      <th>0</th>\n",
       "      <td>2019-06-19</td>\n",
       "      <td>1</td>\n",
       "      <td>Avalon Beach</td>\n",
       "      <td>2107</td>\n",
       "      <td>1210000</td>\n",
       "      <td>4.0</td>\n",
       "      <td>2</td>\n",
       "      <td>2.0</td>\n",
       "      <td>house</td>\n",
       "    </tr>\n",
       "    <tr>\n",
       "      <th>1</th>\n",
       "      <td>2019-06-13</td>\n",
       "      <td>2</td>\n",
       "      <td>Avalon Beach</td>\n",
       "      <td>2107</td>\n",
       "      <td>2250000</td>\n",
       "      <td>4.0</td>\n",
       "      <td>3</td>\n",
       "      <td>4.0</td>\n",
       "      <td>house</td>\n",
       "    </tr>\n",
       "    <tr>\n",
       "      <th>2</th>\n",
       "      <td>2019-06-07</td>\n",
       "      <td>3</td>\n",
       "      <td>Whale Beach</td>\n",
       "      <td>2107</td>\n",
       "      <td>2920000</td>\n",
       "      <td>3.0</td>\n",
       "      <td>3</td>\n",
       "      <td>2.0</td>\n",
       "      <td>house</td>\n",
       "    </tr>\n",
       "    <tr>\n",
       "      <th>3</th>\n",
       "      <td>2019-05-28</td>\n",
       "      <td>4</td>\n",
       "      <td>Avalon Beach</td>\n",
       "      <td>2107</td>\n",
       "      <td>1530000</td>\n",
       "      <td>3.0</td>\n",
       "      <td>1</td>\n",
       "      <td>2.0</td>\n",
       "      <td>house</td>\n",
       "    </tr>\n",
       "    <tr>\n",
       "      <th>4</th>\n",
       "      <td>2019-05-22</td>\n",
       "      <td>5</td>\n",
       "      <td>Whale Beach</td>\n",
       "      <td>2107</td>\n",
       "      <td>8000000</td>\n",
       "      <td>5.0</td>\n",
       "      <td>4</td>\n",
       "      <td>4.0</td>\n",
       "      <td>house</td>\n",
       "    </tr>\n",
       "  </tbody>\n",
       "</table>\n",
       "</div>"
      ],
      "text/plain": [
       "         Date  Id        suburb  postalCode  sellPrice  bed  bath  car  \\\n",
       "0  2019-06-19   1  Avalon Beach        2107    1210000  4.0     2  2.0   \n",
       "1  2019-06-13   2  Avalon Beach        2107    2250000  4.0     3  4.0   \n",
       "2  2019-06-07   3   Whale Beach        2107    2920000  3.0     3  2.0   \n",
       "3  2019-05-28   4  Avalon Beach        2107    1530000  3.0     1  2.0   \n",
       "4  2019-05-22   5   Whale Beach        2107    8000000  5.0     4  4.0   \n",
       "\n",
       "  propType  \n",
       "0    house  \n",
       "1    house  \n",
       "2    house  \n",
       "3    house  \n",
       "4    house  "
      ]
     },
     "execution_count": 2,
     "metadata": {},
     "output_type": "execute_result"
    }
   ],
   "source": [
    "data = pd.read_csv(\"./data/SydneyHousePrices.csv\")\n",
    "data.head()"
   ]
  },
  {
   "cell_type": "markdown",
   "id": "5b733b45-69ad-4c2e-a64e-a76852df9eca",
   "metadata": {},
   "source": [
    "## Part 1: Data Cleaning and Analysis"
   ]
  },
  {
   "cell_type": "code",
   "execution_count": 3,
   "id": "2c066eb5-c6d9-4279-9705-ac2419a1e8d0",
   "metadata": {},
   "outputs": [
    {
     "data": {
      "text/plain": [
       "(199504, 9)"
      ]
     },
     "execution_count": 3,
     "metadata": {},
     "output_type": "execute_result"
    }
   ],
   "source": [
    "data.shape"
   ]
  },
  {
   "cell_type": "code",
   "execution_count": 4,
   "id": "3d79d00e-5df2-43ec-83ac-f5f2874d0108",
   "metadata": {},
   "outputs": [
    {
     "data": {
      "text/html": [
       "<div>\n",
       "<style scoped>\n",
       "    .dataframe tbody tr th:only-of-type {\n",
       "        vertical-align: middle;\n",
       "    }\n",
       "\n",
       "    .dataframe tbody tr th {\n",
       "        vertical-align: top;\n",
       "    }\n",
       "\n",
       "    .dataframe thead th {\n",
       "        text-align: right;\n",
       "    }\n",
       "</style>\n",
       "<table border=\"1\" class=\"dataframe\">\n",
       "  <thead>\n",
       "    <tr style=\"text-align: right;\">\n",
       "      <th></th>\n",
       "      <th>Date</th>\n",
       "      <th>Id</th>\n",
       "      <th>suburb</th>\n",
       "      <th>postalCode</th>\n",
       "      <th>sellPrice</th>\n",
       "      <th>bed</th>\n",
       "      <th>bath</th>\n",
       "      <th>car</th>\n",
       "      <th>propType</th>\n",
       "    </tr>\n",
       "  </thead>\n",
       "  <tbody>\n",
       "    <tr>\n",
       "      <th>0</th>\n",
       "      <td>2019-06-19</td>\n",
       "      <td>1</td>\n",
       "      <td>Avalon Beach</td>\n",
       "      <td>2107</td>\n",
       "      <td>1210000</td>\n",
       "      <td>4.0</td>\n",
       "      <td>2</td>\n",
       "      <td>2.0</td>\n",
       "      <td>house</td>\n",
       "    </tr>\n",
       "    <tr>\n",
       "      <th>1</th>\n",
       "      <td>2019-06-13</td>\n",
       "      <td>2</td>\n",
       "      <td>Avalon Beach</td>\n",
       "      <td>2107</td>\n",
       "      <td>2250000</td>\n",
       "      <td>4.0</td>\n",
       "      <td>3</td>\n",
       "      <td>4.0</td>\n",
       "      <td>house</td>\n",
       "    </tr>\n",
       "    <tr>\n",
       "      <th>2</th>\n",
       "      <td>2019-06-07</td>\n",
       "      <td>3</td>\n",
       "      <td>Whale Beach</td>\n",
       "      <td>2107</td>\n",
       "      <td>2920000</td>\n",
       "      <td>3.0</td>\n",
       "      <td>3</td>\n",
       "      <td>2.0</td>\n",
       "      <td>house</td>\n",
       "    </tr>\n",
       "    <tr>\n",
       "      <th>3</th>\n",
       "      <td>2019-05-28</td>\n",
       "      <td>4</td>\n",
       "      <td>Avalon Beach</td>\n",
       "      <td>2107</td>\n",
       "      <td>1530000</td>\n",
       "      <td>3.0</td>\n",
       "      <td>1</td>\n",
       "      <td>2.0</td>\n",
       "      <td>house</td>\n",
       "    </tr>\n",
       "    <tr>\n",
       "      <th>4</th>\n",
       "      <td>2019-05-22</td>\n",
       "      <td>5</td>\n",
       "      <td>Whale Beach</td>\n",
       "      <td>2107</td>\n",
       "      <td>8000000</td>\n",
       "      <td>5.0</td>\n",
       "      <td>4</td>\n",
       "      <td>4.0</td>\n",
       "      <td>house</td>\n",
       "    </tr>\n",
       "    <tr>\n",
       "      <th>5</th>\n",
       "      <td>2019-05-10</td>\n",
       "      <td>6</td>\n",
       "      <td>Bilgola Plateau</td>\n",
       "      <td>2107</td>\n",
       "      <td>1610000</td>\n",
       "      <td>4.0</td>\n",
       "      <td>2</td>\n",
       "      <td>2.0</td>\n",
       "      <td>house</td>\n",
       "    </tr>\n",
       "    <tr>\n",
       "      <th>6</th>\n",
       "      <td>2019-04-13</td>\n",
       "      <td>7</td>\n",
       "      <td>Avalon Beach</td>\n",
       "      <td>2107</td>\n",
       "      <td>1510000</td>\n",
       "      <td>3.0</td>\n",
       "      <td>1</td>\n",
       "      <td>2.0</td>\n",
       "      <td>house</td>\n",
       "    </tr>\n",
       "    <tr>\n",
       "      <th>7</th>\n",
       "      <td>2019-04-11</td>\n",
       "      <td>8</td>\n",
       "      <td>Avalon Beach</td>\n",
       "      <td>2107</td>\n",
       "      <td>1500000</td>\n",
       "      <td>5.0</td>\n",
       "      <td>4</td>\n",
       "      <td>4.0</td>\n",
       "      <td>house</td>\n",
       "    </tr>\n",
       "    <tr>\n",
       "      <th>8</th>\n",
       "      <td>2019-04-11</td>\n",
       "      <td>9</td>\n",
       "      <td>Avalon Beach</td>\n",
       "      <td>2107</td>\n",
       "      <td>1400000</td>\n",
       "      <td>3.0</td>\n",
       "      <td>1</td>\n",
       "      <td>2.0</td>\n",
       "      <td>house</td>\n",
       "    </tr>\n",
       "    <tr>\n",
       "      <th>9</th>\n",
       "      <td>2019-04-09</td>\n",
       "      <td>10</td>\n",
       "      <td>Avalon Beach</td>\n",
       "      <td>2107</td>\n",
       "      <td>1210000</td>\n",
       "      <td>3.0</td>\n",
       "      <td>2</td>\n",
       "      <td>2.0</td>\n",
       "      <td>house</td>\n",
       "    </tr>\n",
       "  </tbody>\n",
       "</table>\n",
       "</div>"
      ],
      "text/plain": [
       "        Date  Id           suburb  postalCode  sellPrice  bed  bath  car  \\\n",
       "0 2019-06-19   1     Avalon Beach        2107    1210000  4.0     2  2.0   \n",
       "1 2019-06-13   2     Avalon Beach        2107    2250000  4.0     3  4.0   \n",
       "2 2019-06-07   3      Whale Beach        2107    2920000  3.0     3  2.0   \n",
       "3 2019-05-28   4     Avalon Beach        2107    1530000  3.0     1  2.0   \n",
       "4 2019-05-22   5      Whale Beach        2107    8000000  5.0     4  4.0   \n",
       "5 2019-05-10   6  Bilgola Plateau        2107    1610000  4.0     2  2.0   \n",
       "6 2019-04-13   7     Avalon Beach        2107    1510000  3.0     1  2.0   \n",
       "7 2019-04-11   8     Avalon Beach        2107    1500000  5.0     4  4.0   \n",
       "8 2019-04-11   9     Avalon Beach        2107    1400000  3.0     1  2.0   \n",
       "9 2019-04-09  10     Avalon Beach        2107    1210000  3.0     2  2.0   \n",
       "\n",
       "  propType  \n",
       "0    house  \n",
       "1    house  \n",
       "2    house  \n",
       "3    house  \n",
       "4    house  \n",
       "5    house  \n",
       "6    house  \n",
       "7    house  \n",
       "8    house  \n",
       "9    house  "
      ]
     },
     "execution_count": 4,
     "metadata": {},
     "output_type": "execute_result"
    }
   ],
   "source": [
    "data['Date'] = pd.to_datetime(data['Date'])\n",
    "data.head(10)"
   ]
  },
  {
   "cell_type": "markdown",
   "id": "2245e168-405b-4443-9582-89b328a3cab5",
   "metadata": {},
   "source": [
    "### First, let's examine the suburb and PropType Feature"
   ]
  },
  {
   "cell_type": "code",
   "execution_count": 5,
   "id": "ac27ba5b-2248-48bf-8bec-c2d9d327f132",
   "metadata": {},
   "outputs": [
    {
     "data": {
      "text/plain": [
       "suburb\n",
       "Castle Hill           1250\n",
       "Strathfield           1248\n",
       "Ermington             1248\n",
       "Carlingford           1247\n",
       "Auburn                1244\n",
       "                      ... \n",
       "Nattai                   1\n",
       "Marrickville Metro       1\n",
       "Haymarket                1\n",
       "Clarendon                1\n",
       "Paradise Point           1\n",
       "Name: suburb, Length: 685, dtype: int64"
      ]
     },
     "execution_count": 5,
     "metadata": {},
     "output_type": "execute_result"
    }
   ],
   "source": [
    "data.groupby('suburb')['suburb'].agg(\"count\").sort_values(ascending = False)"
   ]
  },
  {
   "cell_type": "code",
   "execution_count": 6,
   "id": "485b84b2-09d7-49d3-9a91-ef6e0b460c7d",
   "metadata": {},
   "outputs": [
    {
     "data": {
      "text/plain": [
       "propType\n",
       "house                   170117\n",
       "townhouse                15177\n",
       "duplex/semi-detached      6722\n",
       "villa                     5701\n",
       "terrace                   1344\n",
       "other                      392\n",
       "warehouse                   40\n",
       "acreage                     11\n",
       "Name: propType, dtype: int64"
      ]
     },
     "execution_count": 6,
     "metadata": {},
     "output_type": "execute_result"
    }
   ],
   "source": [
    "data.groupby('propType')['propType'].agg('count').sort_values(ascending = False)"
   ]
  },
  {
   "cell_type": "markdown",
   "id": "5ff62792-8f19-47d2-9973-9df3621aa752",
   "metadata": {},
   "source": [
    "### As we can see, it seems that most of the properties sold during the last 20 years in Sydney are by far Houses, followed by Townhouses.    \n",
    "### Also, the most popular suburbs are Castle Hill, Strathfield and Ermington, closely followed by Carlingford and Auburn.     \n",
    "### Now let's drop features which won't be useful or redundant"
   ]
  },
  {
   "cell_type": "code",
   "execution_count": 7,
   "id": "3fe0b9c9-92b9-434e-a445-7a5cc0c4b2f0",
   "metadata": {},
   "outputs": [
    {
     "data": {
      "text/html": [
       "<div>\n",
       "<style scoped>\n",
       "    .dataframe tbody tr th:only-of-type {\n",
       "        vertical-align: middle;\n",
       "    }\n",
       "\n",
       "    .dataframe tbody tr th {\n",
       "        vertical-align: top;\n",
       "    }\n",
       "\n",
       "    .dataframe thead th {\n",
       "        text-align: right;\n",
       "    }\n",
       "</style>\n",
       "<table border=\"1\" class=\"dataframe\">\n",
       "  <thead>\n",
       "    <tr style=\"text-align: right;\">\n",
       "      <th></th>\n",
       "      <th>Date</th>\n",
       "      <th>suburb</th>\n",
       "      <th>sellPrice</th>\n",
       "      <th>bed</th>\n",
       "      <th>bath</th>\n",
       "      <th>car</th>\n",
       "      <th>propType</th>\n",
       "    </tr>\n",
       "  </thead>\n",
       "  <tbody>\n",
       "    <tr>\n",
       "      <th>0</th>\n",
       "      <td>2019-06-19</td>\n",
       "      <td>Avalon Beach</td>\n",
       "      <td>1210000</td>\n",
       "      <td>4.0</td>\n",
       "      <td>2</td>\n",
       "      <td>2.0</td>\n",
       "      <td>house</td>\n",
       "    </tr>\n",
       "    <tr>\n",
       "      <th>1</th>\n",
       "      <td>2019-06-13</td>\n",
       "      <td>Avalon Beach</td>\n",
       "      <td>2250000</td>\n",
       "      <td>4.0</td>\n",
       "      <td>3</td>\n",
       "      <td>4.0</td>\n",
       "      <td>house</td>\n",
       "    </tr>\n",
       "    <tr>\n",
       "      <th>2</th>\n",
       "      <td>2019-06-07</td>\n",
       "      <td>Whale Beach</td>\n",
       "      <td>2920000</td>\n",
       "      <td>3.0</td>\n",
       "      <td>3</td>\n",
       "      <td>2.0</td>\n",
       "      <td>house</td>\n",
       "    </tr>\n",
       "    <tr>\n",
       "      <th>3</th>\n",
       "      <td>2019-05-28</td>\n",
       "      <td>Avalon Beach</td>\n",
       "      <td>1530000</td>\n",
       "      <td>3.0</td>\n",
       "      <td>1</td>\n",
       "      <td>2.0</td>\n",
       "      <td>house</td>\n",
       "    </tr>\n",
       "    <tr>\n",
       "      <th>4</th>\n",
       "      <td>2019-05-22</td>\n",
       "      <td>Whale Beach</td>\n",
       "      <td>8000000</td>\n",
       "      <td>5.0</td>\n",
       "      <td>4</td>\n",
       "      <td>4.0</td>\n",
       "      <td>house</td>\n",
       "    </tr>\n",
       "    <tr>\n",
       "      <th>5</th>\n",
       "      <td>2019-05-10</td>\n",
       "      <td>Bilgola Plateau</td>\n",
       "      <td>1610000</td>\n",
       "      <td>4.0</td>\n",
       "      <td>2</td>\n",
       "      <td>2.0</td>\n",
       "      <td>house</td>\n",
       "    </tr>\n",
       "    <tr>\n",
       "      <th>6</th>\n",
       "      <td>2019-04-13</td>\n",
       "      <td>Avalon Beach</td>\n",
       "      <td>1510000</td>\n",
       "      <td>3.0</td>\n",
       "      <td>1</td>\n",
       "      <td>2.0</td>\n",
       "      <td>house</td>\n",
       "    </tr>\n",
       "    <tr>\n",
       "      <th>7</th>\n",
       "      <td>2019-04-11</td>\n",
       "      <td>Avalon Beach</td>\n",
       "      <td>1500000</td>\n",
       "      <td>5.0</td>\n",
       "      <td>4</td>\n",
       "      <td>4.0</td>\n",
       "      <td>house</td>\n",
       "    </tr>\n",
       "    <tr>\n",
       "      <th>8</th>\n",
       "      <td>2019-04-11</td>\n",
       "      <td>Avalon Beach</td>\n",
       "      <td>1400000</td>\n",
       "      <td>3.0</td>\n",
       "      <td>1</td>\n",
       "      <td>2.0</td>\n",
       "      <td>house</td>\n",
       "    </tr>\n",
       "    <tr>\n",
       "      <th>9</th>\n",
       "      <td>2019-04-09</td>\n",
       "      <td>Avalon Beach</td>\n",
       "      <td>1210000</td>\n",
       "      <td>3.0</td>\n",
       "      <td>2</td>\n",
       "      <td>2.0</td>\n",
       "      <td>house</td>\n",
       "    </tr>\n",
       "  </tbody>\n",
       "</table>\n",
       "</div>"
      ],
      "text/plain": [
       "        Date           suburb  sellPrice  bed  bath  car propType\n",
       "0 2019-06-19     Avalon Beach    1210000  4.0     2  2.0    house\n",
       "1 2019-06-13     Avalon Beach    2250000  4.0     3  4.0    house\n",
       "2 2019-06-07      Whale Beach    2920000  3.0     3  2.0    house\n",
       "3 2019-05-28     Avalon Beach    1530000  3.0     1  2.0    house\n",
       "4 2019-05-22      Whale Beach    8000000  5.0     4  4.0    house\n",
       "5 2019-05-10  Bilgola Plateau    1610000  4.0     2  2.0    house\n",
       "6 2019-04-13     Avalon Beach    1510000  3.0     1  2.0    house\n",
       "7 2019-04-11     Avalon Beach    1500000  5.0     4  4.0    house\n",
       "8 2019-04-11     Avalon Beach    1400000  3.0     1  2.0    house\n",
       "9 2019-04-09     Avalon Beach    1210000  3.0     2  2.0    house"
      ]
     },
     "execution_count": 7,
     "metadata": {},
     "output_type": "execute_result"
    }
   ],
   "source": [
    "house_price = data.drop(['Id', 'postalCode'], axis = 'columns')\n",
    "house_price.head(10)"
   ]
  },
  {
   "cell_type": "code",
   "execution_count": 8,
   "id": "a2266304-4947-4c41-b2db-2226eee57590",
   "metadata": {},
   "outputs": [
    {
     "data": {
      "text/plain": [
       "Date             0\n",
       "suburb           0\n",
       "sellPrice        0\n",
       "bed            154\n",
       "bath             0\n",
       "car          18151\n",
       "propType         0\n",
       "dtype: int64"
      ]
     },
     "execution_count": 8,
     "metadata": {},
     "output_type": "execute_result"
    }
   ],
   "source": [
    "house_price.isnull().sum()"
   ]
  },
  {
   "cell_type": "markdown",
   "id": "7893ec6e-0799-47d7-b5d9-e54c54024c47",
   "metadata": {},
   "source": [
    "We can infer here that the nulls in the car columns mean that the property does not come with a garage, and that the null in the bed column means that this is either a warehouse or acreage; so we are going to keep these values as they won't affect the analysis"
   ]
  },
  {
   "cell_type": "markdown",
   "id": "437772d7-a0e6-482d-8860-bb09eb1d3f6b",
   "metadata": {},
   "source": [
    "### Before moving on to the outlier removal part, let's split the date column in Year, Month, Day. Doing it this way will allow us later to do some efficient grouping.\n"
   ]
  },
  {
   "cell_type": "code",
   "execution_count": 9,
   "id": "5b44c1f2-fd6d-4adc-a253-c672ef3ed62d",
   "metadata": {},
   "outputs": [],
   "source": [
    "house_price['Year'] = house_price['Date'].dt.year\n",
    "house_price['Month'] = house_price['Date'].dt.month\n",
    "house_price = house_price.drop(['Date'], axis = 'columns')\n"
   ]
  },
  {
   "cell_type": "code",
   "execution_count": 10,
   "id": "f2a7def2-0ab9-45a4-8e0a-df1740113bca",
   "metadata": {},
   "outputs": [
    {
     "data": {
      "text/html": [
       "<div>\n",
       "<style scoped>\n",
       "    .dataframe tbody tr th:only-of-type {\n",
       "        vertical-align: middle;\n",
       "    }\n",
       "\n",
       "    .dataframe tbody tr th {\n",
       "        vertical-align: top;\n",
       "    }\n",
       "\n",
       "    .dataframe thead th {\n",
       "        text-align: right;\n",
       "    }\n",
       "</style>\n",
       "<table border=\"1\" class=\"dataframe\">\n",
       "  <thead>\n",
       "    <tr style=\"text-align: right;\">\n",
       "      <th></th>\n",
       "      <th>suburb</th>\n",
       "      <th>sellPrice</th>\n",
       "      <th>bed</th>\n",
       "      <th>bath</th>\n",
       "      <th>car</th>\n",
       "      <th>propType</th>\n",
       "      <th>Year</th>\n",
       "      <th>Month</th>\n",
       "    </tr>\n",
       "  </thead>\n",
       "  <tbody>\n",
       "    <tr>\n",
       "      <th>0</th>\n",
       "      <td>Avalon Beach</td>\n",
       "      <td>1210000</td>\n",
       "      <td>4.0</td>\n",
       "      <td>2</td>\n",
       "      <td>2.0</td>\n",
       "      <td>house</td>\n",
       "      <td>2019</td>\n",
       "      <td>6</td>\n",
       "    </tr>\n",
       "    <tr>\n",
       "      <th>1</th>\n",
       "      <td>Avalon Beach</td>\n",
       "      <td>2250000</td>\n",
       "      <td>4.0</td>\n",
       "      <td>3</td>\n",
       "      <td>4.0</td>\n",
       "      <td>house</td>\n",
       "      <td>2019</td>\n",
       "      <td>6</td>\n",
       "    </tr>\n",
       "    <tr>\n",
       "      <th>2</th>\n",
       "      <td>Whale Beach</td>\n",
       "      <td>2920000</td>\n",
       "      <td>3.0</td>\n",
       "      <td>3</td>\n",
       "      <td>2.0</td>\n",
       "      <td>house</td>\n",
       "      <td>2019</td>\n",
       "      <td>6</td>\n",
       "    </tr>\n",
       "    <tr>\n",
       "      <th>3</th>\n",
       "      <td>Avalon Beach</td>\n",
       "      <td>1530000</td>\n",
       "      <td>3.0</td>\n",
       "      <td>1</td>\n",
       "      <td>2.0</td>\n",
       "      <td>house</td>\n",
       "      <td>2019</td>\n",
       "      <td>5</td>\n",
       "    </tr>\n",
       "    <tr>\n",
       "      <th>4</th>\n",
       "      <td>Whale Beach</td>\n",
       "      <td>8000000</td>\n",
       "      <td>5.0</td>\n",
       "      <td>4</td>\n",
       "      <td>4.0</td>\n",
       "      <td>house</td>\n",
       "      <td>2019</td>\n",
       "      <td>5</td>\n",
       "    </tr>\n",
       "  </tbody>\n",
       "</table>\n",
       "</div>"
      ],
      "text/plain": [
       "         suburb  sellPrice  bed  bath  car propType  Year  Month\n",
       "0  Avalon Beach    1210000  4.0     2  2.0    house  2019      6\n",
       "1  Avalon Beach    2250000  4.0     3  4.0    house  2019      6\n",
       "2   Whale Beach    2920000  3.0     3  2.0    house  2019      6\n",
       "3  Avalon Beach    1530000  3.0     1  2.0    house  2019      5\n",
       "4   Whale Beach    8000000  5.0     4  4.0    house  2019      5"
      ]
     },
     "execution_count": 10,
     "metadata": {},
     "output_type": "execute_result"
    }
   ],
   "source": [
    "house_price.head()"
   ]
  },
  {
   "cell_type": "markdown",
   "id": "c2a63297-aee9-4df2-a9cb-78dcaac373d4",
   "metadata": {},
   "source": [
    "### Finally, let's reorder the columns for better readability"
   ]
  },
  {
   "cell_type": "code",
   "execution_count": 11,
   "id": "ad222835-17ba-4fb2-9702-b0583598b9b6",
   "metadata": {},
   "outputs": [],
   "source": [
    "house_price = house_price[['Year', 'Month', 'suburb', 'propType', 'sellPrice', 'bed', 'bath', 'car' ]]"
   ]
  },
  {
   "cell_type": "code",
   "execution_count": 12,
   "id": "ac09588a-1d56-4577-875b-54e9e5f2274d",
   "metadata": {},
   "outputs": [
    {
     "data": {
      "text/html": [
       "<div>\n",
       "<style scoped>\n",
       "    .dataframe tbody tr th:only-of-type {\n",
       "        vertical-align: middle;\n",
       "    }\n",
       "\n",
       "    .dataframe tbody tr th {\n",
       "        vertical-align: top;\n",
       "    }\n",
       "\n",
       "    .dataframe thead th {\n",
       "        text-align: right;\n",
       "    }\n",
       "</style>\n",
       "<table border=\"1\" class=\"dataframe\">\n",
       "  <thead>\n",
       "    <tr style=\"text-align: right;\">\n",
       "      <th></th>\n",
       "      <th>Year</th>\n",
       "      <th>Month</th>\n",
       "      <th>suburb</th>\n",
       "      <th>propType</th>\n",
       "      <th>sellPrice</th>\n",
       "      <th>bed</th>\n",
       "      <th>bath</th>\n",
       "      <th>car</th>\n",
       "    </tr>\n",
       "  </thead>\n",
       "  <tbody>\n",
       "    <tr>\n",
       "      <th>0</th>\n",
       "      <td>2019</td>\n",
       "      <td>6</td>\n",
       "      <td>Avalon Beach</td>\n",
       "      <td>house</td>\n",
       "      <td>1210000</td>\n",
       "      <td>4.0</td>\n",
       "      <td>2</td>\n",
       "      <td>2.0</td>\n",
       "    </tr>\n",
       "    <tr>\n",
       "      <th>1</th>\n",
       "      <td>2019</td>\n",
       "      <td>6</td>\n",
       "      <td>Avalon Beach</td>\n",
       "      <td>house</td>\n",
       "      <td>2250000</td>\n",
       "      <td>4.0</td>\n",
       "      <td>3</td>\n",
       "      <td>4.0</td>\n",
       "    </tr>\n",
       "    <tr>\n",
       "      <th>2</th>\n",
       "      <td>2019</td>\n",
       "      <td>6</td>\n",
       "      <td>Whale Beach</td>\n",
       "      <td>house</td>\n",
       "      <td>2920000</td>\n",
       "      <td>3.0</td>\n",
       "      <td>3</td>\n",
       "      <td>2.0</td>\n",
       "    </tr>\n",
       "    <tr>\n",
       "      <th>3</th>\n",
       "      <td>2019</td>\n",
       "      <td>5</td>\n",
       "      <td>Avalon Beach</td>\n",
       "      <td>house</td>\n",
       "      <td>1530000</td>\n",
       "      <td>3.0</td>\n",
       "      <td>1</td>\n",
       "      <td>2.0</td>\n",
       "    </tr>\n",
       "    <tr>\n",
       "      <th>4</th>\n",
       "      <td>2019</td>\n",
       "      <td>5</td>\n",
       "      <td>Whale Beach</td>\n",
       "      <td>house</td>\n",
       "      <td>8000000</td>\n",
       "      <td>5.0</td>\n",
       "      <td>4</td>\n",
       "      <td>4.0</td>\n",
       "    </tr>\n",
       "    <tr>\n",
       "      <th>5</th>\n",
       "      <td>2019</td>\n",
       "      <td>5</td>\n",
       "      <td>Bilgola Plateau</td>\n",
       "      <td>house</td>\n",
       "      <td>1610000</td>\n",
       "      <td>4.0</td>\n",
       "      <td>2</td>\n",
       "      <td>2.0</td>\n",
       "    </tr>\n",
       "    <tr>\n",
       "      <th>6</th>\n",
       "      <td>2019</td>\n",
       "      <td>4</td>\n",
       "      <td>Avalon Beach</td>\n",
       "      <td>house</td>\n",
       "      <td>1510000</td>\n",
       "      <td>3.0</td>\n",
       "      <td>1</td>\n",
       "      <td>2.0</td>\n",
       "    </tr>\n",
       "    <tr>\n",
       "      <th>7</th>\n",
       "      <td>2019</td>\n",
       "      <td>4</td>\n",
       "      <td>Avalon Beach</td>\n",
       "      <td>house</td>\n",
       "      <td>1500000</td>\n",
       "      <td>5.0</td>\n",
       "      <td>4</td>\n",
       "      <td>4.0</td>\n",
       "    </tr>\n",
       "    <tr>\n",
       "      <th>8</th>\n",
       "      <td>2019</td>\n",
       "      <td>4</td>\n",
       "      <td>Avalon Beach</td>\n",
       "      <td>house</td>\n",
       "      <td>1400000</td>\n",
       "      <td>3.0</td>\n",
       "      <td>1</td>\n",
       "      <td>2.0</td>\n",
       "    </tr>\n",
       "    <tr>\n",
       "      <th>9</th>\n",
       "      <td>2019</td>\n",
       "      <td>4</td>\n",
       "      <td>Avalon Beach</td>\n",
       "      <td>house</td>\n",
       "      <td>1210000</td>\n",
       "      <td>3.0</td>\n",
       "      <td>2</td>\n",
       "      <td>2.0</td>\n",
       "    </tr>\n",
       "  </tbody>\n",
       "</table>\n",
       "</div>"
      ],
      "text/plain": [
       "   Year  Month           suburb propType  sellPrice  bed  bath  car\n",
       "0  2019      6     Avalon Beach    house    1210000  4.0     2  2.0\n",
       "1  2019      6     Avalon Beach    house    2250000  4.0     3  4.0\n",
       "2  2019      6      Whale Beach    house    2920000  3.0     3  2.0\n",
       "3  2019      5     Avalon Beach    house    1530000  3.0     1  2.0\n",
       "4  2019      5      Whale Beach    house    8000000  5.0     4  4.0\n",
       "5  2019      5  Bilgola Plateau    house    1610000  4.0     2  2.0\n",
       "6  2019      4     Avalon Beach    house    1510000  3.0     1  2.0\n",
       "7  2019      4     Avalon Beach    house    1500000  5.0     4  4.0\n",
       "8  2019      4     Avalon Beach    house    1400000  3.0     1  2.0\n",
       "9  2019      4     Avalon Beach    house    1210000  3.0     2  2.0"
      ]
     },
     "execution_count": 12,
     "metadata": {},
     "output_type": "execute_result"
    }
   ],
   "source": [
    "house_price.head(10)"
   ]
  },
  {
   "cell_type": "markdown",
   "id": "72add769-4b53-4c2f-bd74-a3a49a631ee6",
   "metadata": {},
   "source": [
    "### Outlier analysis and removal"
   ]
  },
  {
   "cell_type": "markdown",
   "id": "3995e921-f6bb-4ead-a809-685c27c44107",
   "metadata": {},
   "source": [
    "#### Now that we've made sure that our dataset is cleaned up, it's time to remove outliers which may skew our results"
   ]
  },
  {
   "cell_type": "markdown",
   "id": "9eba7667-7b1d-450c-9c50-066c7e957745",
   "metadata": {},
   "source": [
    "#### Let's start with the bed column first.  "
   ]
  },
  {
   "cell_type": "code",
   "execution_count": 13,
   "id": "283da756-7013-40ca-991e-8b2070d44c79",
   "metadata": {},
   "outputs": [
    {
     "data": {
      "text/plain": [
       "array([ 4.,  3.,  5.,  6.,  2.,  7.,  8.,  1., nan, 10.,  9., 12., 15.,\n",
       "       19., 26., 20., 14., 24., 13., 30., 16., 36., 18., 23., 11., 17.,\n",
       "       99., 22., 45., 21., 34.])"
      ]
     },
     "execution_count": 13,
     "metadata": {},
     "output_type": "execute_result"
    }
   ],
   "source": [
    "house_price['bed'].unique()"
   ]
  },
  {
   "cell_type": "markdown",
   "id": "7137af0d-710d-4119-9ecc-4fdc5dbbb04a",
   "metadata": {},
   "source": [
    "##### As we can see, there are some properties with 99, 45 or 36 bedrooms. This is either a human error or outliers which will skew our results, so let's analyse them and depending on the results, we will get rid of them."
   ]
  },
  {
   "cell_type": "code",
   "execution_count": 14,
   "id": "f8ef3f63-f93c-4c8c-867a-ef80673002aa",
   "metadata": {},
   "outputs": [
    {
     "data": {
      "text/html": [
       "<div>\n",
       "<style scoped>\n",
       "    .dataframe tbody tr th:only-of-type {\n",
       "        vertical-align: middle;\n",
       "    }\n",
       "\n",
       "    .dataframe tbody tr th {\n",
       "        vertical-align: top;\n",
       "    }\n",
       "\n",
       "    .dataframe thead th {\n",
       "        text-align: right;\n",
       "    }\n",
       "</style>\n",
       "<table border=\"1\" class=\"dataframe\">\n",
       "  <thead>\n",
       "    <tr style=\"text-align: right;\">\n",
       "      <th></th>\n",
       "      <th>Year</th>\n",
       "      <th>Month</th>\n",
       "      <th>suburb</th>\n",
       "      <th>propType</th>\n",
       "      <th>sellPrice</th>\n",
       "      <th>bed</th>\n",
       "      <th>bath</th>\n",
       "      <th>car</th>\n",
       "    </tr>\n",
       "  </thead>\n",
       "  <tbody>\n",
       "    <tr>\n",
       "      <th>37025</th>\n",
       "      <td>2009</td>\n",
       "      <td>3</td>\n",
       "      <td>Neutral Bay</td>\n",
       "      <td>townhouse</td>\n",
       "      <td>6215000</td>\n",
       "      <td>36.0</td>\n",
       "      <td>24</td>\n",
       "      <td>24.0</td>\n",
       "    </tr>\n",
       "    <tr>\n",
       "      <th>106339</th>\n",
       "      <td>2013</td>\n",
       "      <td>2</td>\n",
       "      <td>Dangar Island</td>\n",
       "      <td>house</td>\n",
       "      <td>660000</td>\n",
       "      <td>99.0</td>\n",
       "      <td>1</td>\n",
       "      <td>4.0</td>\n",
       "    </tr>\n",
       "    <tr>\n",
       "      <th>170630</th>\n",
       "      <td>2013</td>\n",
       "      <td>3</td>\n",
       "      <td>Burwood</td>\n",
       "      <td>house</td>\n",
       "      <td>3640000</td>\n",
       "      <td>45.0</td>\n",
       "      <td>9</td>\n",
       "      <td>NaN</td>\n",
       "    </tr>\n",
       "    <tr>\n",
       "      <th>188811</th>\n",
       "      <td>2011</td>\n",
       "      <td>12</td>\n",
       "      <td>Birrong</td>\n",
       "      <td>house</td>\n",
       "      <td>445000</td>\n",
       "      <td>34.0</td>\n",
       "      <td>1</td>\n",
       "      <td>2.0</td>\n",
       "    </tr>\n",
       "  </tbody>\n",
       "</table>\n",
       "</div>"
      ],
      "text/plain": [
       "        Year  Month         suburb   propType  sellPrice   bed  bath   car\n",
       "37025   2009      3    Neutral Bay  townhouse    6215000  36.0    24  24.0\n",
       "106339  2013      2  Dangar Island      house     660000  99.0     1   4.0\n",
       "170630  2013      3        Burwood      house    3640000  45.0     9   NaN\n",
       "188811  2011     12        Birrong      house     445000  34.0     1   2.0"
      ]
     },
     "execution_count": 14,
     "metadata": {},
     "output_type": "execute_result"
    }
   ],
   "source": [
    "house_price[house_price['bed'] > 30]"
   ]
  },
  {
   "cell_type": "markdown",
   "id": "5a260dd3-0887-4370-b7e4-a9bd76dd4b58",
   "metadata": {},
   "source": [
    "##### Since we don't have the total square footage information, we can't possibly know if this is due to human error or not.    \n",
    "#### However, we can get rid of the 99, 45 and 34 beds row since we can infer that such a gigantic house would come with more bathrooms, a garage, or would ask a more expensive price."
   ]
  },
  {
   "cell_type": "code",
   "execution_count": 15,
   "id": "81855134-1358-47cb-af1d-dc5f2773555d",
   "metadata": {},
   "outputs": [],
   "source": [
    "house_price = house_price.drop(house_price[house_price.bed >= 30].index)"
   ]
  },
  {
   "cell_type": "code",
   "execution_count": 16,
   "id": "16f8aaec-8e3b-46a3-aa50-8266c4604e9a",
   "metadata": {},
   "outputs": [
    {
     "data": {
      "text/html": [
       "<div>\n",
       "<style scoped>\n",
       "    .dataframe tbody tr th:only-of-type {\n",
       "        vertical-align: middle;\n",
       "    }\n",
       "\n",
       "    .dataframe tbody tr th {\n",
       "        vertical-align: top;\n",
       "    }\n",
       "\n",
       "    .dataframe thead th {\n",
       "        text-align: right;\n",
       "    }\n",
       "</style>\n",
       "<table border=\"1\" class=\"dataframe\">\n",
       "  <thead>\n",
       "    <tr style=\"text-align: right;\">\n",
       "      <th></th>\n",
       "      <th>Year</th>\n",
       "      <th>Month</th>\n",
       "      <th>suburb</th>\n",
       "      <th>propType</th>\n",
       "      <th>sellPrice</th>\n",
       "      <th>bed</th>\n",
       "      <th>bath</th>\n",
       "      <th>car</th>\n",
       "    </tr>\n",
       "  </thead>\n",
       "  <tbody>\n",
       "  </tbody>\n",
       "</table>\n",
       "</div>"
      ],
      "text/plain": [
       "Empty DataFrame\n",
       "Columns: [Year, Month, suburb, propType, sellPrice, bed, bath, car]\n",
       "Index: []"
      ]
     },
     "execution_count": 16,
     "metadata": {},
     "output_type": "execute_result"
    }
   ],
   "source": [
    "house_price[house_price.bed >30]"
   ]
  },
  {
   "cell_type": "markdown",
   "id": "ab42e41c-4ad3-49a9-a0b7-0bf31f334a25",
   "metadata": {},
   "source": [
    "#### Now, let's do the same process for the number of bathrooms. If there are more than 30 bathrooms, we get rid of the row"
   ]
  },
  {
   "cell_type": "code",
   "execution_count": 17,
   "id": "21eac7d1-ea60-4e8e-abb5-3595659ff477",
   "metadata": {},
   "outputs": [],
   "source": [
    "house_price = house_price.drop(house_price[house_price.bath > 30].index)"
   ]
  },
  {
   "cell_type": "code",
   "execution_count": 18,
   "id": "7a093bdf-a4e8-49ee-ae34-49e34446bab5",
   "metadata": {},
   "outputs": [
    {
     "data": {
      "text/html": [
       "<div>\n",
       "<style scoped>\n",
       "    .dataframe tbody tr th:only-of-type {\n",
       "        vertical-align: middle;\n",
       "    }\n",
       "\n",
       "    .dataframe tbody tr th {\n",
       "        vertical-align: top;\n",
       "    }\n",
       "\n",
       "    .dataframe thead th {\n",
       "        text-align: right;\n",
       "    }\n",
       "</style>\n",
       "<table border=\"1\" class=\"dataframe\">\n",
       "  <thead>\n",
       "    <tr style=\"text-align: right;\">\n",
       "      <th></th>\n",
       "      <th>Year</th>\n",
       "      <th>Month</th>\n",
       "      <th>suburb</th>\n",
       "      <th>propType</th>\n",
       "      <th>sellPrice</th>\n",
       "      <th>bed</th>\n",
       "      <th>bath</th>\n",
       "      <th>car</th>\n",
       "    </tr>\n",
       "  </thead>\n",
       "  <tbody>\n",
       "  </tbody>\n",
       "</table>\n",
       "</div>"
      ],
      "text/plain": [
       "Empty DataFrame\n",
       "Columns: [Year, Month, suburb, propType, sellPrice, bed, bath, car]\n",
       "Index: []"
      ]
     },
     "execution_count": 18,
     "metadata": {},
     "output_type": "execute_result"
    }
   ],
   "source": [
    "house_price[house_price.bath > 30]"
   ]
  },
  {
   "cell_type": "markdown",
   "id": "4738640d-5c33-4576-95cc-a342db122e42",
   "metadata": {},
   "source": [
    "## Part 2: Feature Engineering and Dimensionality Reduction"
   ]
  },
  {
   "cell_type": "markdown",
   "id": "455e1e10-56f3-49fa-bd65-7897b6d8edcb",
   "metadata": {},
   "source": [
    "### First, let's analyze how many suburbs we have"
   ]
  },
  {
   "cell_type": "code",
   "execution_count": 19,
   "id": "69e26a9c-f9d4-4ce1-bedc-f4ef066dde3d",
   "metadata": {},
   "outputs": [
    {
     "name": "stdout",
     "output_type": "stream",
     "text": [
      "685 ['Avalon Beach' 'Whale Beach' 'Bilgola Plateau' 'Clareville'\n",
      " 'Bilgola Beach' 'Blacktown' 'Marayong' 'Kings Park' 'Prospect'\n",
      " 'Matraville']\n"
     ]
    }
   ],
   "source": [
    "list_suburbs = house_price['suburb'].unique()\n",
    "print(len(list_suburbs), list_suburbs[:10])"
   ]
  },
  {
   "cell_type": "markdown",
   "id": "dc66c83b-007b-4df5-9be1-fe3bc04de2d4",
   "metadata": {},
   "source": [
    "#### As we can see, we have 685 different suburbs.    \n",
    "#### If we were to create the dummy column by suburb, we would have 685 more columns, so we need to do some dimensionality reduction first."
   ]
  },
  {
   "cell_type": "code",
   "execution_count": 20,
   "id": "183209ea-a726-49b0-bcdb-29e75566cb3d",
   "metadata": {},
   "outputs": [
    {
     "name": "stdout",
     "output_type": "stream",
     "text": [
      "suburb\n",
      "Castle Hill           1250\n",
      "Strathfield           1248\n",
      "Ermington             1248\n",
      "Carlingford           1247\n",
      "Auburn                1244\n",
      "                      ... \n",
      "Nattai                   1\n",
      "Marrickville Metro       1\n",
      "Haymarket                1\n",
      "Clarendon                1\n",
      "Paradise Point           1\n",
      "Name: suburb, Length: 685, dtype: int64\n"
     ]
    }
   ],
   "source": [
    "number_by_suburb = house_price.groupby('suburb')['suburb'].agg('count').sort_values(ascending = False) #get the number of properties sold by suburb in descending order\n",
    "print(number_by_suburb)"
   ]
  },
  {
   "cell_type": "markdown",
   "id": "c1c6db14-f257-494b-a2d8-e09c077995bf",
   "metadata": {},
   "source": [
    "#### We have some suburbs which only appear once or twice, so we can group them together in order to reduce the number of dimension.    \n",
    "#### Let's say that, if a suburb appears less than 10 times, we put it in a suburb named 'other'."
   ]
  },
  {
   "cell_type": "code",
   "execution_count": 21,
   "id": "6a0a6892-a44d-45ed-84c5-54b18e3157f1",
   "metadata": {},
   "outputs": [
    {
     "data": {
      "text/plain": [
       "108"
      ]
     },
     "execution_count": 21,
     "metadata": {},
     "output_type": "execute_result"
    }
   ],
   "source": [
    "len(number_by_suburb[number_by_suburb <= 10] ) # we can get rid of 77 columns\n",
    "len(number_by_suburb[number_by_suburb <= 20]) # we can get rid 108 columns"
   ]
  },
  {
   "cell_type": "markdown",
   "id": "4367e741-7794-40a4-92fb-ed10f7adf90c",
   "metadata": {},
   "source": [
    "### Let's choose, as an arbitrary cutoff, less than 20 location. This means that on average, 1 property is sold in this suburb by year."
   ]
  },
  {
   "cell_type": "code",
   "execution_count": 22,
   "id": "8d727a9f-c7e5-48f9-a4d5-5d8bc23e5862",
   "metadata": {},
   "outputs": [
    {
     "name": "stdout",
     "output_type": "stream",
     "text": [
      "suburb\n",
      "Lakesland             20\n",
      "Lower Portland        20\n",
      "Duffys Forest         20\n",
      "South Turramurra      20\n",
      "Elizabeth Bay         19\n",
      "                      ..\n",
      "Nattai                 1\n",
      "Marrickville Metro     1\n",
      "Haymarket              1\n",
      "Clarendon              1\n",
      "Paradise Point         1\n",
      "Name: suburb, Length: 108, dtype: int64\n"
     ]
    }
   ],
   "source": [
    "less_than_20_suburbs = number_by_suburb[number_by_suburb <= 20]\n",
    "print(less_than_20_suburbs)"
   ]
  },
  {
   "cell_type": "code",
   "execution_count": 23,
   "id": "ed4c8af1-7838-49ee-9d0f-357ea2162b0e",
   "metadata": {},
   "outputs": [],
   "source": [
    "house_price.suburb = house_price.suburb.apply(lambda x: 'other' if x in less_than_20_suburbs else x)"
   ]
  },
  {
   "cell_type": "code",
   "execution_count": 24,
   "id": "97f8eacf-cdca-4f1a-bda0-1141cad96201",
   "metadata": {},
   "outputs": [
    {
     "data": {
      "text/plain": [
       "suburb\n",
       "Castle Hill      1250\n",
       "Ermington        1248\n",
       "Strathfield      1248\n",
       "Carlingford      1247\n",
       "Auburn           1244\n",
       "                 ... \n",
       "St Leonards        22\n",
       "Grose Wold         22\n",
       "Luddenham          22\n",
       "Port Hacking       21\n",
       "Bilgola Beach      21\n",
       "Name: suburb, Length: 578, dtype: int64"
      ]
     },
     "execution_count": 24,
     "metadata": {},
     "output_type": "execute_result"
    }
   ],
   "source": [
    "house_price.groupby('suburb')['suburb'].agg('count').sort_values(ascending = False)"
   ]
  },
  {
   "cell_type": "markdown",
   "id": "22a21a3d-7f79-4d59-8553-5bb71ee17dd3",
   "metadata": {},
   "source": [
    "\n"
   ]
  },
  {
   "cell_type": "markdown",
   "id": "d723cdcb-e2dd-4a9e-be52-c0e972290769",
   "metadata": {},
   "source": [
    "## Part 3: Visualization"
   ]
  },
  {
   "cell_type": "markdown",
   "id": "19180fd8-9468-4995-b18c-e964e65b088e",
   "metadata": {},
   "source": [
    "### First, let's visualize the type of properties which sold the most."
   ]
  }
 ],
 "metadata": {
  "kernelspec": {
   "display_name": "Python 3",
   "language": "python",
   "name": "python3"
  },
  "language_info": {
   "codemirror_mode": {
    "name": "ipython",
    "version": 3
   },
   "file_extension": ".py",
   "mimetype": "text/x-python",
   "name": "python",
   "nbconvert_exporter": "python",
   "pygments_lexer": "ipython3",
   "version": "3.8.8"
  }
 },
 "nbformat": 4,
 "nbformat_minor": 5
}
